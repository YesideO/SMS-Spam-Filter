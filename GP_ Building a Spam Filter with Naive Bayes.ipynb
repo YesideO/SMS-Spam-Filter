{
 "cells": [
  {
   "cell_type": "markdown",
   "metadata": {},
   "source": [
    "# <center> Building a Spam Filter for SMS Messages with Naive Bayes </center>"
   ]
  },
  {
   "cell_type": "markdown",
   "metadata": {},
   "source": [
    ">Spam refers to irrelevant or unsolicited messages sent over the internet, typically to a large number of users, for the purposes of advertising, phishing, spreading malware, etc. ([_source_](https://www.lexico.com/definition/spam))\n",
    "\n",
    "Receiving SMS messages of this sort becomes increasingly annoying with frequency and a solution to this menace is often desired.\n",
    "\n",
    "That said, the aim of this project is to develop a spam filter for SMS messages. \n",
    "\n",
    "The first task to achieving this is to _teach_ the computer how to classify messages by using the mulitnomial Naive Bayes algorithm. For the purpose of this project, I will do this along with a dataset of 5,572 messages that have already been classified by humans.\n",
    "\n",
    "The dataset was put together by Tiago A. Almeida and Jose Maria Gomez Hidalgo. Should you need it, you can download the dataset from The [UCI Machine Learning Repository here](https://archive.ics.uci.edu/ml/datasets/sms+spam+collection). "
   ]
  },
  {
   "cell_type": "markdown",
   "metadata": {},
   "source": [
    "## Exploring the Dataset"
   ]
  },
  {
   "cell_type": "code",
   "execution_count": 1,
   "metadata": {},
   "outputs": [
    {
     "data": {
      "text/html": [
       "<div>\n",
       "<style scoped>\n",
       "    .dataframe tbody tr th:only-of-type {\n",
       "        vertical-align: middle;\n",
       "    }\n",
       "\n",
       "    .dataframe tbody tr th {\n",
       "        vertical-align: top;\n",
       "    }\n",
       "\n",
       "    .dataframe thead th {\n",
       "        text-align: right;\n",
       "    }\n",
       "</style>\n",
       "<table border=\"1\" class=\"dataframe\">\n",
       "  <thead>\n",
       "    <tr style=\"text-align: right;\">\n",
       "      <th></th>\n",
       "      <th>Label</th>\n",
       "      <th>SMS</th>\n",
       "    </tr>\n",
       "  </thead>\n",
       "  <tbody>\n",
       "    <tr>\n",
       "      <th>0</th>\n",
       "      <td>ham</td>\n",
       "      <td>Go until jurong point, crazy.. Available only ...</td>\n",
       "    </tr>\n",
       "    <tr>\n",
       "      <th>1</th>\n",
       "      <td>ham</td>\n",
       "      <td>Ok lar... Joking wif u oni...</td>\n",
       "    </tr>\n",
       "    <tr>\n",
       "      <th>2</th>\n",
       "      <td>spam</td>\n",
       "      <td>Free entry in 2 a wkly comp to win FA Cup fina...</td>\n",
       "    </tr>\n",
       "    <tr>\n",
       "      <th>3</th>\n",
       "      <td>ham</td>\n",
       "      <td>U dun say so early hor... U c already then say...</td>\n",
       "    </tr>\n",
       "    <tr>\n",
       "      <th>4</th>\n",
       "      <td>ham</td>\n",
       "      <td>Nah I don't think he goes to usf, he lives aro...</td>\n",
       "    </tr>\n",
       "  </tbody>\n",
       "</table>\n",
       "</div>"
      ],
      "text/plain": [
       "  Label                                                SMS\n",
       "0   ham  Go until jurong point, crazy.. Available only ...\n",
       "1   ham                      Ok lar... Joking wif u oni...\n",
       "2  spam  Free entry in 2 a wkly comp to win FA Cup fina...\n",
       "3   ham  U dun say so early hor... U c already then say...\n",
       "4   ham  Nah I don't think he goes to usf, he lives aro..."
      ]
     },
     "execution_count": 1,
     "metadata": {},
     "output_type": "execute_result"
    }
   ],
   "source": [
    "import pandas as pd\n",
    "sms_collection = pd.read_csv('SMSSpamCollection', sep='\\t', header = None, names=['Label', 'SMS'])\n",
    "sms_collection.head()"
   ]
  },
  {
   "cell_type": "code",
   "execution_count": 2,
   "metadata": {},
   "outputs": [
    {
     "name": "stdout",
     "output_type": "stream",
     "text": [
      "This dataset has 5572 rows and 2 columns\n"
     ]
    }
   ],
   "source": [
    "print('This dataset has',sms_collection.shape[0], 'rows and',sms_collection.shape[1], 'columns' )"
   ]
  },
  {
   "cell_type": "code",
   "execution_count": 3,
   "metadata": {},
   "outputs": [
    {
     "data": {
      "text/plain": [
       "ham     86.593683\n",
       "spam    13.406317\n",
       "Name: Label, dtype: float64"
      ]
     },
     "execution_count": 3,
     "metadata": {},
     "output_type": "execute_result"
    }
   ],
   "source": [
    "sms_collection['Label'].value_counts(normalize = True)*100"
   ]
  },
  {
   "cell_type": "markdown",
   "metadata": {},
   "source": [
    "About 87% of the messages are classified as non-spam messages while the remaining 13% are spam messages.\n",
    "\n",
    "*'ham' means non-spam* **"
   ]
  },
  {
   "cell_type": "markdown",
   "metadata": {},
   "source": [
    "## Splitting the Dataset: Training and Test Set"
   ]
  },
  {
   "cell_type": "markdown",
   "metadata": {},
   "source": [
    "It is important to know how good the spam filter is at classifying messages by designing the test before creating the filter. \n",
    "\n",
    "I will get this done by splitting the dataset into 2 categories:\n",
    "- A **training set** (4,458 messages: 80% of the dataset) to 'train' the computer on how to classify messages.\n",
    "- A **test set** (1,114 messages: 20% of the dataset) to test the efficiency of the spam filter in classifying new messages.\n",
    "\n",
    "A large proportion of the dataset is going into the training set because I'll like to train the algorithm with as much data as possible\n",
    "\n",
    "Meanwhile, the concept of setting aside the test data is to analyze the efficiency of the filter to correctly classify a message that, if you recall, has already been classified by a human.\n",
    "\n",
    "**Note: A filter 80% accuracy is the desired outcome.**\n",
    "\n",
    "First, I will randomize the entire dataset to ensure that spam and ham messages are well-spread throughout the dataset."
   ]
  },
  {
   "cell_type": "code",
   "execution_count": 4,
   "metadata": {},
   "outputs": [],
   "source": [
    "randomized_sms = sms_collection.sample(frac=1, random_state=1)"
   ]
  },
  {
   "cell_type": "markdown",
   "metadata": {},
   "source": [
    "Next, I'll assign 80% of the randomized dataset to `train_data` and 20% to `test_data`."
   ]
  },
  {
   "cell_type": "code",
   "execution_count": 5,
   "metadata": {},
   "outputs": [],
   "source": [
    "#splitting randomized dataset\n",
    "train_data = randomized_sms.head(4458)\n",
    "test_data = randomized_sms.tail(1114)\n",
    "\n",
    "#resetting the index labels\n",
    "train_data = train_data.reset_index(drop=True)\n",
    "test_data = test_data.reset_index(drop=True)"
   ]
  },
  {
   "cell_type": "code",
   "execution_count": 6,
   "metadata": {},
   "outputs": [
    {
     "data": {
      "text/plain": [
       "ham     86.54105\n",
       "spam    13.45895\n",
       "Name: Label, dtype: float64"
      ]
     },
     "execution_count": 6,
     "metadata": {},
     "output_type": "execute_result"
    }
   ],
   "source": [
    "#Proportion of spam and ham in train_data\n",
    "train_data['Label'].value_counts(normalize = True)*100"
   ]
  },
  {
   "cell_type": "code",
   "execution_count": 7,
   "metadata": {},
   "outputs": [
    {
     "data": {
      "text/plain": [
       "ham     86.804309\n",
       "spam    13.195691\n",
       "Name: Label, dtype: float64"
      ]
     },
     "execution_count": 7,
     "metadata": {},
     "output_type": "execute_result"
    }
   ],
   "source": [
    "#Proportion of spam and ham in test_data\n",
    "test_data['Label'].value_counts(normalize = True)*100"
   ]
  },
  {
   "cell_type": "markdown",
   "metadata": {},
   "source": [
    "<u>**Observation**</u>\n",
    "\n",
    "The proportion of spam and ham messages in both the training and the test set are similar to what we observed in the full dataset (87% : 13%). This means the samples are representative of the population. Good to go!"
   ]
  },
  {
   "cell_type": "markdown",
   "metadata": {},
   "source": [
    "## Data Cleaning: Letter Case and Punctuation"
   ]
  },
  {
   "cell_type": "markdown",
   "metadata": {},
   "source": [
    "Having split the dataset into training and test set, the next step is to use the training set to teach the algorithm to classify new messages.\n",
    "\n",
    "But before that, I need to clean up the data in the `SMS` columns to bring it to a format that makes it easy to extract the information I need."
   ]
  },
  {
   "cell_type": "code",
   "execution_count": 8,
   "metadata": {},
   "outputs": [
    {
     "data": {
      "text/html": [
       "<div>\n",
       "<style scoped>\n",
       "    .dataframe tbody tr th:only-of-type {\n",
       "        vertical-align: middle;\n",
       "    }\n",
       "\n",
       "    .dataframe tbody tr th {\n",
       "        vertical-align: top;\n",
       "    }\n",
       "\n",
       "    .dataframe thead th {\n",
       "        text-align: right;\n",
       "    }\n",
       "</style>\n",
       "<table border=\"1\" class=\"dataframe\">\n",
       "  <thead>\n",
       "    <tr style=\"text-align: right;\">\n",
       "      <th></th>\n",
       "      <th>Label</th>\n",
       "      <th>SMS</th>\n",
       "    </tr>\n",
       "  </thead>\n",
       "  <tbody>\n",
       "    <tr>\n",
       "      <th>0</th>\n",
       "      <td>ham</td>\n",
       "      <td>Yep, by the pretty sculpture</td>\n",
       "    </tr>\n",
       "    <tr>\n",
       "      <th>1</th>\n",
       "      <td>ham</td>\n",
       "      <td>Yes, princess. Are you going to make me moan?</td>\n",
       "    </tr>\n",
       "    <tr>\n",
       "      <th>2</th>\n",
       "      <td>ham</td>\n",
       "      <td>Welp apparently he retired</td>\n",
       "    </tr>\n",
       "    <tr>\n",
       "      <th>3</th>\n",
       "      <td>ham</td>\n",
       "      <td>Havent.</td>\n",
       "    </tr>\n",
       "    <tr>\n",
       "      <th>4</th>\n",
       "      <td>ham</td>\n",
       "      <td>I forgot 2 ask ü all smth.. There's a card on ...</td>\n",
       "    </tr>\n",
       "  </tbody>\n",
       "</table>\n",
       "</div>"
      ],
      "text/plain": [
       "  Label                                                SMS\n",
       "0   ham                       Yep, by the pretty sculpture\n",
       "1   ham      Yes, princess. Are you going to make me moan?\n",
       "2   ham                         Welp apparently he retired\n",
       "3   ham                                            Havent.\n",
       "4   ham  I forgot 2 ask ü all smth.. There's a card on ..."
      ]
     },
     "execution_count": 8,
     "metadata": {},
     "output_type": "execute_result"
    }
   ],
   "source": [
    "train_data.head(5)"
   ]
  },
  {
   "cell_type": "markdown",
   "metadata": {},
   "source": [
    "I'll begin the data cleaning by removing punctuations in the messages and changing all the words to lowercase. So, `Haven't` and `havent`, for instance, will be treated the same way."
   ]
  },
  {
   "cell_type": "code",
   "execution_count": 9,
   "metadata": {},
   "outputs": [],
   "source": [
    "#removing punctuation and changing to lowercase\n",
    "train_data['SMS'] = train_data['SMS'].str.replace('\\W',' ').str.lower()"
   ]
  },
  {
   "cell_type": "code",
   "execution_count": 10,
   "metadata": {},
   "outputs": [
    {
     "data": {
      "text/html": [
       "<div>\n",
       "<style scoped>\n",
       "    .dataframe tbody tr th:only-of-type {\n",
       "        vertical-align: middle;\n",
       "    }\n",
       "\n",
       "    .dataframe tbody tr th {\n",
       "        vertical-align: top;\n",
       "    }\n",
       "\n",
       "    .dataframe thead th {\n",
       "        text-align: right;\n",
       "    }\n",
       "</style>\n",
       "<table border=\"1\" class=\"dataframe\">\n",
       "  <thead>\n",
       "    <tr style=\"text-align: right;\">\n",
       "      <th></th>\n",
       "      <th>Label</th>\n",
       "      <th>SMS</th>\n",
       "    </tr>\n",
       "  </thead>\n",
       "  <tbody>\n",
       "    <tr>\n",
       "      <th>0</th>\n",
       "      <td>ham</td>\n",
       "      <td>yep  by the pretty sculpture</td>\n",
       "    </tr>\n",
       "    <tr>\n",
       "      <th>1</th>\n",
       "      <td>ham</td>\n",
       "      <td>yes  princess  are you going to make me moan</td>\n",
       "    </tr>\n",
       "    <tr>\n",
       "      <th>2</th>\n",
       "      <td>ham</td>\n",
       "      <td>welp apparently he retired</td>\n",
       "    </tr>\n",
       "    <tr>\n",
       "      <th>3</th>\n",
       "      <td>ham</td>\n",
       "      <td>havent</td>\n",
       "    </tr>\n",
       "    <tr>\n",
       "      <th>4</th>\n",
       "      <td>ham</td>\n",
       "      <td>i forgot 2 ask ü all smth   there s a card on ...</td>\n",
       "    </tr>\n",
       "  </tbody>\n",
       "</table>\n",
       "</div>"
      ],
      "text/plain": [
       "  Label                                                SMS\n",
       "0   ham                       yep  by the pretty sculpture\n",
       "1   ham      yes  princess  are you going to make me moan \n",
       "2   ham                         welp apparently he retired\n",
       "3   ham                                            havent \n",
       "4   ham  i forgot 2 ask ü all smth   there s a card on ..."
      ]
     },
     "execution_count": 10,
     "metadata": {},
     "output_type": "execute_result"
    }
   ],
   "source": [
    "train_data.head(5)"
   ]
  },
  {
   "cell_type": "markdown",
   "metadata": {},
   "source": [
    "## Creating the Vocabulary for the Naive Bayes Algorithm"
   ]
  },
  {
   "cell_type": "markdown",
   "metadata": {},
   "source": [
    "To classify the messages, the Naive Bayes algorithm will need to know the probability values of these two formulas:\n",
    "\n",
    "<img src=\"files/image_1.PNG\" />\n",
    "<img src=\"files/image_2.PNG\" />\n",
    "\n",
    "\n",
    "However, the following equations will be necessary to calculate P(wi|Spam) and P(wi|Ham) in the formulas above:\n",
    "\n",
    "<img src=\"files/image_3.PNG\" />\n",
    "\n",
    "<img src=\"files/image_4.PNG\" />\n",
    "\n",
    "Here's a summary of what the terms in the equations above mean:\n",
    "\n",
    "<img src=\"files/image_5.PNG\" />"
   ]
  },
  {
   "cell_type": "markdown",
   "metadata": {},
   "source": [
    "I'll need to do a bit of data cleaning first to calculate these probabilities. That being said, the end goal with the data cleaning process is to bring the `train_set` to this format:\n",
    "\n",
    "![title](https://dq-content.s3.amazonaws.com/433/cpgp_dataset_3.png)"
   ]
  },
  {
   "cell_type": "markdown",
   "metadata": {
    "collapsed": true
   },
   "source": [
    "From the image above, except the `Label column`, every other column in the table represents the frequency of unique words in a set vocabulary. \n",
    "\n",
    "**Note**:*A vocabulary is a list with all the unique words that occur in the messages from the training set*\n",
    "\n",
    "I'll start by creating my vocabulary in order to bring the training set to the format in the image."
   ]
  },
  {
   "cell_type": "code",
   "execution_count": 11,
   "metadata": {},
   "outputs": [
    {
     "data": {
      "text/html": [
       "<div>\n",
       "<style scoped>\n",
       "    .dataframe tbody tr th:only-of-type {\n",
       "        vertical-align: middle;\n",
       "    }\n",
       "\n",
       "    .dataframe tbody tr th {\n",
       "        vertical-align: top;\n",
       "    }\n",
       "\n",
       "    .dataframe thead th {\n",
       "        text-align: right;\n",
       "    }\n",
       "</style>\n",
       "<table border=\"1\" class=\"dataframe\">\n",
       "  <thead>\n",
       "    <tr style=\"text-align: right;\">\n",
       "      <th></th>\n",
       "      <th>Label</th>\n",
       "      <th>SMS</th>\n",
       "    </tr>\n",
       "  </thead>\n",
       "  <tbody>\n",
       "    <tr>\n",
       "      <th>0</th>\n",
       "      <td>ham</td>\n",
       "      <td>[yep, by, the, pretty, sculpture]</td>\n",
       "    </tr>\n",
       "    <tr>\n",
       "      <th>1</th>\n",
       "      <td>ham</td>\n",
       "      <td>[yes, princess, are, you, going, to, make, me,...</td>\n",
       "    </tr>\n",
       "    <tr>\n",
       "      <th>2</th>\n",
       "      <td>ham</td>\n",
       "      <td>[welp, apparently, he, retired]</td>\n",
       "    </tr>\n",
       "    <tr>\n",
       "      <th>3</th>\n",
       "      <td>ham</td>\n",
       "      <td>[havent]</td>\n",
       "    </tr>\n",
       "    <tr>\n",
       "      <th>4</th>\n",
       "      <td>ham</td>\n",
       "      <td>[i, forgot, 2, ask, ü, all, smth, there, s, a,...</td>\n",
       "    </tr>\n",
       "  </tbody>\n",
       "</table>\n",
       "</div>"
      ],
      "text/plain": [
       "  Label                                                SMS\n",
       "0   ham                  [yep, by, the, pretty, sculpture]\n",
       "1   ham  [yes, princess, are, you, going, to, make, me,...\n",
       "2   ham                    [welp, apparently, he, retired]\n",
       "3   ham                                           [havent]\n",
       "4   ham  [i, forgot, 2, ask, ü, all, smth, there, s, a,..."
      ]
     },
     "execution_count": 11,
     "metadata": {},
     "output_type": "execute_result"
    }
   ],
   "source": [
    "#transforming each message in the SMS column into a list of words\n",
    "train_data['SMS'] = train_data['SMS'].str.split() \n",
    "train_data.head()"
   ]
  },
  {
   "cell_type": "code",
   "execution_count": 12,
   "metadata": {},
   "outputs": [
    {
     "data": {
      "text/plain": [
       "72427"
      ]
     },
     "execution_count": 12,
     "metadata": {},
     "output_type": "execute_result"
    }
   ],
   "source": [
    "#Creating the vocabulary\n",
    "vocabulary = []\n",
    "for message in train_data['SMS']:\n",
    "    for word in message:\n",
    "        vocabulary.append(word)\n",
    "len(vocabulary)"
   ]
  },
  {
   "cell_type": "code",
   "execution_count": 13,
   "metadata": {},
   "outputs": [
    {
     "data": {
      "text/plain": [
       "7783"
      ]
     },
     "execution_count": 13,
     "metadata": {},
     "output_type": "execute_result"
    }
   ],
   "source": [
    "#transforiming vocabulary to a set to remove duplicates\n",
    "vocabulary = set(vocabulary)\n",
    "len(vocabulary)"
   ]
  },
  {
   "cell_type": "markdown",
   "metadata": {},
   "source": [
    "Now that the `vocabulary` is comprised of only unique words from the training set, I'll transform it from a set back into a list. "
   ]
  },
  {
   "cell_type": "code",
   "execution_count": 14,
   "metadata": {},
   "outputs": [
    {
     "data": {
      "text/plain": [
       "['nalla',\n",
       " 'host',\n",
       " 'outrageous',\n",
       " 'handing',\n",
       " 'lotsly',\n",
       " 'clearer',\n",
       " 'frens',\n",
       " 'motorola',\n",
       " 'or2stoptxt',\n",
       " 'tease']"
      ]
     },
     "execution_count": 14,
     "metadata": {},
     "output_type": "execute_result"
    }
   ],
   "source": [
    "vocabulary = list(vocabulary)\n",
    "vocabulary[:10]"
   ]
  },
  {
   "cell_type": "markdown",
   "metadata": {},
   "source": [
    "## Final Training Set"
   ]
  },
  {
   "cell_type": "markdown",
   "metadata": {},
   "source": [
    "Recall that the goal is to bring the `training set` to this format:\n",
    "\n",
    "![title](https://dq-content.s3.amazonaws.com/433/cpgp_dataset_3.png)"
   ]
  },
  {
   "cell_type": "markdown",
   "metadata": {},
   "source": [
    "To achieve this, I'll eventually need to build a dictionary which I'll then transform into a new DataFrame.\n",
    "\n",
    "The keys in the dictionary will be the unique words from `vocabulary` while the values with be a corresponding list of the the length of the training set."
   ]
  },
  {
   "cell_type": "code",
   "execution_count": 15,
   "metadata": {},
   "outputs": [],
   "source": [
    "#creating new dictionary\n",
    "word_counts_per_sms = {unique_word: [0] * len(train_data['SMS']) for unique_word in vocabulary}\n",
    "\n",
    "for index, sms in enumerate(train_data['SMS']):\n",
    "    for word in sms:\n",
    "        word_counts_per_sms[word][index] += 1"
   ]
  },
  {
   "cell_type": "code",
   "execution_count": 16,
   "metadata": {},
   "outputs": [
    {
     "data": {
      "text/html": [
       "<div>\n",
       "<style scoped>\n",
       "    .dataframe tbody tr th:only-of-type {\n",
       "        vertical-align: middle;\n",
       "    }\n",
       "\n",
       "    .dataframe tbody tr th {\n",
       "        vertical-align: top;\n",
       "    }\n",
       "\n",
       "    .dataframe thead th {\n",
       "        text-align: right;\n",
       "    }\n",
       "</style>\n",
       "<table border=\"1\" class=\"dataframe\">\n",
       "  <thead>\n",
       "    <tr style=\"text-align: right;\">\n",
       "      <th></th>\n",
       "      <th>nalla</th>\n",
       "      <th>host</th>\n",
       "      <th>outrageous</th>\n",
       "      <th>handing</th>\n",
       "      <th>lotsly</th>\n",
       "      <th>clearer</th>\n",
       "      <th>frens</th>\n",
       "      <th>motorola</th>\n",
       "      <th>or2stoptxt</th>\n",
       "      <th>tease</th>\n",
       "      <th>...</th>\n",
       "      <th>sppok</th>\n",
       "      <th>waz</th>\n",
       "      <th>small</th>\n",
       "      <th>morphine</th>\n",
       "      <th>sony</th>\n",
       "      <th>showers</th>\n",
       "      <th>treacle</th>\n",
       "      <th>ans</th>\n",
       "      <th>0800</th>\n",
       "      <th>plm</th>\n",
       "    </tr>\n",
       "  </thead>\n",
       "  <tbody>\n",
       "    <tr>\n",
       "      <th>0</th>\n",
       "      <td>0</td>\n",
       "      <td>0</td>\n",
       "      <td>0</td>\n",
       "      <td>0</td>\n",
       "      <td>0</td>\n",
       "      <td>0</td>\n",
       "      <td>0</td>\n",
       "      <td>0</td>\n",
       "      <td>0</td>\n",
       "      <td>0</td>\n",
       "      <td>...</td>\n",
       "      <td>0</td>\n",
       "      <td>0</td>\n",
       "      <td>0</td>\n",
       "      <td>0</td>\n",
       "      <td>0</td>\n",
       "      <td>0</td>\n",
       "      <td>0</td>\n",
       "      <td>0</td>\n",
       "      <td>0</td>\n",
       "      <td>0</td>\n",
       "    </tr>\n",
       "    <tr>\n",
       "      <th>1</th>\n",
       "      <td>0</td>\n",
       "      <td>0</td>\n",
       "      <td>0</td>\n",
       "      <td>0</td>\n",
       "      <td>0</td>\n",
       "      <td>0</td>\n",
       "      <td>0</td>\n",
       "      <td>0</td>\n",
       "      <td>0</td>\n",
       "      <td>0</td>\n",
       "      <td>...</td>\n",
       "      <td>0</td>\n",
       "      <td>0</td>\n",
       "      <td>0</td>\n",
       "      <td>0</td>\n",
       "      <td>0</td>\n",
       "      <td>0</td>\n",
       "      <td>0</td>\n",
       "      <td>0</td>\n",
       "      <td>0</td>\n",
       "      <td>0</td>\n",
       "    </tr>\n",
       "    <tr>\n",
       "      <th>2</th>\n",
       "      <td>0</td>\n",
       "      <td>0</td>\n",
       "      <td>0</td>\n",
       "      <td>0</td>\n",
       "      <td>0</td>\n",
       "      <td>0</td>\n",
       "      <td>0</td>\n",
       "      <td>0</td>\n",
       "      <td>0</td>\n",
       "      <td>0</td>\n",
       "      <td>...</td>\n",
       "      <td>0</td>\n",
       "      <td>0</td>\n",
       "      <td>0</td>\n",
       "      <td>0</td>\n",
       "      <td>0</td>\n",
       "      <td>0</td>\n",
       "      <td>0</td>\n",
       "      <td>0</td>\n",
       "      <td>0</td>\n",
       "      <td>0</td>\n",
       "    </tr>\n",
       "    <tr>\n",
       "      <th>3</th>\n",
       "      <td>0</td>\n",
       "      <td>0</td>\n",
       "      <td>0</td>\n",
       "      <td>0</td>\n",
       "      <td>0</td>\n",
       "      <td>0</td>\n",
       "      <td>0</td>\n",
       "      <td>0</td>\n",
       "      <td>0</td>\n",
       "      <td>0</td>\n",
       "      <td>...</td>\n",
       "      <td>0</td>\n",
       "      <td>0</td>\n",
       "      <td>0</td>\n",
       "      <td>0</td>\n",
       "      <td>0</td>\n",
       "      <td>0</td>\n",
       "      <td>0</td>\n",
       "      <td>0</td>\n",
       "      <td>0</td>\n",
       "      <td>0</td>\n",
       "    </tr>\n",
       "    <tr>\n",
       "      <th>4</th>\n",
       "      <td>0</td>\n",
       "      <td>0</td>\n",
       "      <td>0</td>\n",
       "      <td>0</td>\n",
       "      <td>0</td>\n",
       "      <td>0</td>\n",
       "      <td>0</td>\n",
       "      <td>0</td>\n",
       "      <td>0</td>\n",
       "      <td>0</td>\n",
       "      <td>...</td>\n",
       "      <td>0</td>\n",
       "      <td>0</td>\n",
       "      <td>0</td>\n",
       "      <td>0</td>\n",
       "      <td>0</td>\n",
       "      <td>0</td>\n",
       "      <td>0</td>\n",
       "      <td>0</td>\n",
       "      <td>0</td>\n",
       "      <td>0</td>\n",
       "    </tr>\n",
       "  </tbody>\n",
       "</table>\n",
       "<p>5 rows × 7783 columns</p>\n",
       "</div>"
      ],
      "text/plain": [
       "   nalla  host  outrageous  handing  lotsly  clearer  frens  motorola  \\\n",
       "0      0     0           0        0       0        0      0         0   \n",
       "1      0     0           0        0       0        0      0         0   \n",
       "2      0     0           0        0       0        0      0         0   \n",
       "3      0     0           0        0       0        0      0         0   \n",
       "4      0     0           0        0       0        0      0         0   \n",
       "\n",
       "   or2stoptxt  tease  ...  sppok  waz  small  morphine  sony  showers  \\\n",
       "0           0      0  ...      0    0      0         0     0        0   \n",
       "1           0      0  ...      0    0      0         0     0        0   \n",
       "2           0      0  ...      0    0      0         0     0        0   \n",
       "3           0      0  ...      0    0      0         0     0        0   \n",
       "4           0      0  ...      0    0      0         0     0        0   \n",
       "\n",
       "   treacle  ans  0800  plm  \n",
       "0        0    0     0    0  \n",
       "1        0    0     0    0  \n",
       "2        0    0     0    0  \n",
       "3        0    0     0    0  \n",
       "4        0    0     0    0  \n",
       "\n",
       "[5 rows x 7783 columns]"
      ]
     },
     "execution_count": 16,
     "metadata": {},
     "output_type": "execute_result"
    }
   ],
   "source": [
    "#transforming word_count_per_sms into a DataFrame\n",
    "word_counts = pd.DataFrame(word_counts_per_sms)\n",
    "word_counts.head()"
   ]
  },
  {
   "cell_type": "markdown",
   "metadata": {},
   "source": [
    "Next, I'll concatenate the new DataFrame with the DataFrame containing the training set."
   ]
  },
  {
   "cell_type": "code",
   "execution_count": 17,
   "metadata": {},
   "outputs": [
    {
     "data": {
      "text/html": [
       "<div>\n",
       "<style scoped>\n",
       "    .dataframe tbody tr th:only-of-type {\n",
       "        vertical-align: middle;\n",
       "    }\n",
       "\n",
       "    .dataframe tbody tr th {\n",
       "        vertical-align: top;\n",
       "    }\n",
       "\n",
       "    .dataframe thead th {\n",
       "        text-align: right;\n",
       "    }\n",
       "</style>\n",
       "<table border=\"1\" class=\"dataframe\">\n",
       "  <thead>\n",
       "    <tr style=\"text-align: right;\">\n",
       "      <th></th>\n",
       "      <th>Label</th>\n",
       "      <th>SMS</th>\n",
       "      <th>nalla</th>\n",
       "      <th>host</th>\n",
       "      <th>outrageous</th>\n",
       "      <th>handing</th>\n",
       "      <th>lotsly</th>\n",
       "      <th>clearer</th>\n",
       "      <th>frens</th>\n",
       "      <th>motorola</th>\n",
       "      <th>...</th>\n",
       "      <th>sppok</th>\n",
       "      <th>waz</th>\n",
       "      <th>small</th>\n",
       "      <th>morphine</th>\n",
       "      <th>sony</th>\n",
       "      <th>showers</th>\n",
       "      <th>treacle</th>\n",
       "      <th>ans</th>\n",
       "      <th>0800</th>\n",
       "      <th>plm</th>\n",
       "    </tr>\n",
       "  </thead>\n",
       "  <tbody>\n",
       "    <tr>\n",
       "      <th>0</th>\n",
       "      <td>ham</td>\n",
       "      <td>[yep, by, the, pretty, sculpture]</td>\n",
       "      <td>0</td>\n",
       "      <td>0</td>\n",
       "      <td>0</td>\n",
       "      <td>0</td>\n",
       "      <td>0</td>\n",
       "      <td>0</td>\n",
       "      <td>0</td>\n",
       "      <td>0</td>\n",
       "      <td>...</td>\n",
       "      <td>0</td>\n",
       "      <td>0</td>\n",
       "      <td>0</td>\n",
       "      <td>0</td>\n",
       "      <td>0</td>\n",
       "      <td>0</td>\n",
       "      <td>0</td>\n",
       "      <td>0</td>\n",
       "      <td>0</td>\n",
       "      <td>0</td>\n",
       "    </tr>\n",
       "    <tr>\n",
       "      <th>1</th>\n",
       "      <td>ham</td>\n",
       "      <td>[yes, princess, are, you, going, to, make, me,...</td>\n",
       "      <td>0</td>\n",
       "      <td>0</td>\n",
       "      <td>0</td>\n",
       "      <td>0</td>\n",
       "      <td>0</td>\n",
       "      <td>0</td>\n",
       "      <td>0</td>\n",
       "      <td>0</td>\n",
       "      <td>...</td>\n",
       "      <td>0</td>\n",
       "      <td>0</td>\n",
       "      <td>0</td>\n",
       "      <td>0</td>\n",
       "      <td>0</td>\n",
       "      <td>0</td>\n",
       "      <td>0</td>\n",
       "      <td>0</td>\n",
       "      <td>0</td>\n",
       "      <td>0</td>\n",
       "    </tr>\n",
       "    <tr>\n",
       "      <th>2</th>\n",
       "      <td>ham</td>\n",
       "      <td>[welp, apparently, he, retired]</td>\n",
       "      <td>0</td>\n",
       "      <td>0</td>\n",
       "      <td>0</td>\n",
       "      <td>0</td>\n",
       "      <td>0</td>\n",
       "      <td>0</td>\n",
       "      <td>0</td>\n",
       "      <td>0</td>\n",
       "      <td>...</td>\n",
       "      <td>0</td>\n",
       "      <td>0</td>\n",
       "      <td>0</td>\n",
       "      <td>0</td>\n",
       "      <td>0</td>\n",
       "      <td>0</td>\n",
       "      <td>0</td>\n",
       "      <td>0</td>\n",
       "      <td>0</td>\n",
       "      <td>0</td>\n",
       "    </tr>\n",
       "    <tr>\n",
       "      <th>3</th>\n",
       "      <td>ham</td>\n",
       "      <td>[havent]</td>\n",
       "      <td>0</td>\n",
       "      <td>0</td>\n",
       "      <td>0</td>\n",
       "      <td>0</td>\n",
       "      <td>0</td>\n",
       "      <td>0</td>\n",
       "      <td>0</td>\n",
       "      <td>0</td>\n",
       "      <td>...</td>\n",
       "      <td>0</td>\n",
       "      <td>0</td>\n",
       "      <td>0</td>\n",
       "      <td>0</td>\n",
       "      <td>0</td>\n",
       "      <td>0</td>\n",
       "      <td>0</td>\n",
       "      <td>0</td>\n",
       "      <td>0</td>\n",
       "      <td>0</td>\n",
       "    </tr>\n",
       "    <tr>\n",
       "      <th>4</th>\n",
       "      <td>ham</td>\n",
       "      <td>[i, forgot, 2, ask, ü, all, smth, there, s, a,...</td>\n",
       "      <td>0</td>\n",
       "      <td>0</td>\n",
       "      <td>0</td>\n",
       "      <td>0</td>\n",
       "      <td>0</td>\n",
       "      <td>0</td>\n",
       "      <td>0</td>\n",
       "      <td>0</td>\n",
       "      <td>...</td>\n",
       "      <td>0</td>\n",
       "      <td>0</td>\n",
       "      <td>0</td>\n",
       "      <td>0</td>\n",
       "      <td>0</td>\n",
       "      <td>0</td>\n",
       "      <td>0</td>\n",
       "      <td>0</td>\n",
       "      <td>0</td>\n",
       "      <td>0</td>\n",
       "    </tr>\n",
       "  </tbody>\n",
       "</table>\n",
       "<p>5 rows × 7785 columns</p>\n",
       "</div>"
      ],
      "text/plain": [
       "  Label                                                SMS  nalla  host  \\\n",
       "0   ham                  [yep, by, the, pretty, sculpture]      0     0   \n",
       "1   ham  [yes, princess, are, you, going, to, make, me,...      0     0   \n",
       "2   ham                    [welp, apparently, he, retired]      0     0   \n",
       "3   ham                                           [havent]      0     0   \n",
       "4   ham  [i, forgot, 2, ask, ü, all, smth, there, s, a,...      0     0   \n",
       "\n",
       "   outrageous  handing  lotsly  clearer  frens  motorola  ...  sppok  waz  \\\n",
       "0           0        0       0        0      0         0  ...      0    0   \n",
       "1           0        0       0        0      0         0  ...      0    0   \n",
       "2           0        0       0        0      0         0  ...      0    0   \n",
       "3           0        0       0        0      0         0  ...      0    0   \n",
       "4           0        0       0        0      0         0  ...      0    0   \n",
       "\n",
       "   small  morphine  sony  showers  treacle  ans  0800  plm  \n",
       "0      0         0     0        0        0    0     0    0  \n",
       "1      0         0     0        0        0    0     0    0  \n",
       "2      0         0     0        0        0    0     0    0  \n",
       "3      0         0     0        0        0    0     0    0  \n",
       "4      0         0     0        0        0    0     0    0  \n",
       "\n",
       "[5 rows x 7785 columns]"
      ]
     },
     "execution_count": 17,
     "metadata": {},
     "output_type": "execute_result"
    }
   ],
   "source": [
    "train_data_clean = pd.concat([train_data, word_counts], axis=1)\n",
    "train_data_clean.head()"
   ]
  },
  {
   "cell_type": "markdown",
   "metadata": {
    "collapsed": true
   },
   "source": [
    "## Calulating Constants First"
   ]
  },
  {
   "cell_type": "markdown",
   "metadata": {
    "collapsed": true
   },
   "source": [
    "Recall these equations:\n",
    "<img src=\"files/image_1.PNG\" />\n",
    "\n",
    "<img src=\"files/image_2.PNG\" />\n",
    "\n",
    "...and these:\n",
    "\n",
    "<img src=\"files/image_3.PNG\" />\n",
    "\n",
    "<img src=\"files/image_4.PNG\" />\n",
    "\n",
    "\n",
    "There are values in these formulas that will remain the same for every new message. \n",
    "\n",
    "So, using only the training set, I'll calculate these following constant values first:\n",
    "- P(Spam) and P(Ham)\n",
    "- NSpam, NHam, NVocabulary\n",
    "\n",
    "\n",
    "I'll also use Laplace smoothing and \n",
    "set &alpha; = 1\n"
   ]
  },
  {
   "cell_type": "code",
   "execution_count": 18,
   "metadata": {},
   "outputs": [],
   "source": [
    "spam_messages = train_data_clean[train_data_clean['Label'] == 'spam']\n",
    "ham_messages = train_data_clean[train_data_clean['Label'] == 'ham']\n",
    "\n",
    "# P(Spam) and P(Ham)\n",
    "p_spam = len(spam_messages) / len(train_data_clean)\n",
    "p_ham = len(ham_messages) / len(train_data_clean)\n",
    "\n",
    "# N_Spam\n",
    "n_words_per_spam_message = spam_messages['SMS'].apply(len)\n",
    "n_spam = n_words_per_spam_message.sum()\n",
    "\n",
    "# N_Ham\n",
    "n_words_per_ham_message = ham_messages['SMS'].apply(len)\n",
    "n_ham = n_words_per_ham_message.sum()\n",
    "\n",
    "# N_Vocabulary\n",
    "n_vocabulary = len(vocabulary)\n",
    "\n",
    "# Laplace smoothing\n",
    "alpha = 1"
   ]
  },
  {
   "cell_type": "markdown",
   "metadata": {},
   "source": [
    "## Calculating Parameters"
   ]
  },
  {
   "cell_type": "markdown",
   "metadata": {},
   "source": [
    "Having calculated the constant values, the next step is to calculate the parameters P(wi|Spam) and P(wi|Ham). \n",
    "\n",
    "<img src=\"files/image_3.PNG\" />\n",
    "\n",
    "<img src=\"files/image_4.PNG\" />\n",
    "\n",
    "Recall that these parameters are important parts of the equations we will need to classify new messages.\n",
    "\n",
    "In the next block of code, we will calculate P(wi|Spam) as `parameters_spam` and P(wi|Ham) as `parameters_ham`."
   ]
  },
  {
   "cell_type": "code",
   "execution_count": 19,
   "metadata": {},
   "outputs": [],
   "source": [
    "# Initiate parameters\n",
    "parameters_spam = {unique_word:0 for unique_word in vocabulary}\n",
    "parameters_ham = {unique_word:0 for unique_word in vocabulary}\n",
    "\n",
    "# Calculate parameters\n",
    "for word in vocabulary:\n",
    "    n_word_given_spam = spam_messages[word].sum() \n",
    "    p_word_given_spam = (n_word_given_spam + alpha) / (n_spam + alpha*n_vocabulary)\n",
    "    parameters_spam[word] = p_word_given_spam\n",
    "    \n",
    "    n_word_given_ham = ham_messages[word].sum() \n",
    "    p_word_given_ham = (n_word_given_ham + alpha) / (n_ham + alpha*n_vocabulary)\n",
    "    parameters_ham[word] = p_word_given_ham\n"
   ]
  },
  {
   "cell_type": "markdown",
   "metadata": {},
   "source": [
    "## Classifying a New Message"
   ]
  },
  {
   "cell_type": "markdown",
   "metadata": {},
   "source": [
    "Now that I have all the parameters and constants, I can finally get to the purpose of this project - build a spam filter for SMS messages.\n",
    "\n",
    "The spam filter can best be understood as a function that:\n",
    "\n",
    "- Takes in as input a new message (w1, w2, ..., wn)\n",
    "- Calculates P(Spam|w1, w2, ..., wn) and P(Ham|w1, w2, ..., wn)\n",
    "- Compares the values of P(Spam|w1, w2, ..., wn) and P(Ham|w1, w2, ..., wn), and:\n",
    " - If P(Ham|w1, w2, ..., wn) > P(Spam|w1, w2, ..., wn), then the message is classified as ham.\n",
    " - If P(Ham|w1, w2, ..., wn) < P(Spam|w1, w2, ..., wn), then the message is classified as spam.\n",
    " - If P(Ham|w1, w2, ..., wn) = P(Spam|w1, w2, ..., wn), then the algorithm may request human help.\n",
    " \n",
    "The next block of code describes the logic of the spam filter."
   ]
  },
  {
   "cell_type": "code",
   "execution_count": 20,
   "metadata": {},
   "outputs": [],
   "source": [
    "def classify(message):\n",
    "\n",
    "    message = message.str.replace('\\W',' ')\n",
    "    message = message.lower()\n",
    "    message = message.split()\n",
    "\n",
    "    '''    \n",
    "    placeholder to calculate:\n",
    "\n",
    "    p_spam_given_message = ?\n",
    "    p_ham_given_message = ?\n",
    "    '''    \n",
    "\n",
    "    print('P(Spam|message):', p_spam_given_message)\n",
    "    print('P(Ham|message):', p_ham_given_message)\n",
    "\n",
    "    if p_ham_given_message > p_spam_given_message:\n",
    "        print('Message Type: Ham')\n",
    "    elif p_ham_given_message < p_spam_given_message:\n",
    "        print('Message Type: Spam')\n",
    "    else:\n",
    "        print('Equal proabilities, a human needs to classify this!')"
   ]
  },
  {
   "cell_type": "markdown",
   "metadata": {
    "collapsed": true
   },
   "source": [
    "The `classify()` function in the code above:\n",
    "- Takes in a `message` it assumes to be a string\n",
    "- Performs data cleaning on the string\n",
    "- Calculates `p_spam_given_message` and `p_ham_given_message`\n",
    "- Compares `p_spam_given_message` and `p_ham_given_message` and then prints a classification label. \n",
    "\n",
    "\n",
    "Note that some new messages may contain words that are not part of the vocabulary of unique words. This filter will ignore such words when calculating probabilities. \n",
    "\n",
    "I'll complete the code and test how well the function classifies a new message..."
   ]
  },
  {
   "cell_type": "code",
   "execution_count": 21,
   "metadata": {},
   "outputs": [],
   "source": [
    "import re \n",
    "def classify(message):\n",
    "\n",
    "    message = re.sub('\\W',' ', message)\n",
    "    message = message.lower()\n",
    "    message = message.split()\n",
    "\n",
    "    p_spam_given_message = p_spam\n",
    "    p_ham_given_message = p_ham\n",
    "\n",
    "    for word in message:\n",
    "        if word in parameters_spam:\n",
    "            p_spam_given_message *= parameters_spam[word]\n",
    "\n",
    "        if word in parameters_ham:\n",
    "            p_ham_given_message *= parameters_ham[word]\n",
    "    \n",
    "\n",
    "    print('P(Spam|message):', p_spam_given_message)\n",
    "    print('P(Ham|message):', p_ham_given_message)\n",
    "\n",
    "    if p_ham_given_message > p_spam_given_message:\n",
    "        print('Message Type: Ham')\n",
    "    elif p_ham_given_message < p_spam_given_message:\n",
    "        print('Message Type: Spam')\n",
    "    else:\n",
    "        print('Equal proabilities, a human needs to classify this!')"
   ]
  },
  {
   "cell_type": "markdown",
   "metadata": {},
   "source": [
    "Let's test the filter with an obvious spam message and an obvious ham (non-spam) message."
   ]
  },
  {
   "cell_type": "code",
   "execution_count": 22,
   "metadata": {},
   "outputs": [
    {
     "name": "stdout",
     "output_type": "stream",
     "text": [
      "P(Spam|message): 6.857114321373393e-38\n",
      "P(Ham|message): 2.0472365845343654e-46\n",
      "Message Type: Spam\n"
     ]
    }
   ],
   "source": [
    "classify('CONGRATULATIONS You have been selected as the winner. Text your BVN to 33567 to claim your prize!')"
   ]
  },
  {
   "cell_type": "code",
   "execution_count": 23,
   "metadata": {},
   "outputs": [
    {
     "name": "stdout",
     "output_type": "stream",
     "text": [
      "P(Spam|message): 7.0922786485345535e-28\n",
      "P(Ham|message): 3.65592622413323e-25\n",
      "Message Type: Ham\n"
     ]
    }
   ],
   "source": [
    "classify('Hey, Sam! Can u send the plumber\\'s number? Thanks')"
   ]
  },
  {
   "cell_type": "markdown",
   "metadata": {},
   "source": [
    "Looks like the spam filter works perfectly. Nonetheless, I'll test its accuracy in the next section. Recall that the desired accuracy is 80%."
   ]
  },
  {
   "cell_type": "markdown",
   "metadata": {},
   "source": [
    "## Measuring the Spam Filter's Accuracy"
   ]
  },
  {
   "cell_type": "markdown",
   "metadata": {},
   "source": [
    "I will run the `test data` through the filter to test the filter's accuracy. The filter is going to treat each message in the datset as a new message because the algorithm never saw the dataset.\n",
    "\n",
    "A little modification to the previous function will provide a function that returns labels for each message instead of printing them. I'll then use the labels to create a column in the `test_data`."
   ]
  },
  {
   "cell_type": "code",
   "execution_count": 24,
   "metadata": {},
   "outputs": [
    {
     "data": {
      "text/html": [
       "<div>\n",
       "<style scoped>\n",
       "    .dataframe tbody tr th:only-of-type {\n",
       "        vertical-align: middle;\n",
       "    }\n",
       "\n",
       "    .dataframe tbody tr th {\n",
       "        vertical-align: top;\n",
       "    }\n",
       "\n",
       "    .dataframe thead th {\n",
       "        text-align: right;\n",
       "    }\n",
       "</style>\n",
       "<table border=\"1\" class=\"dataframe\">\n",
       "  <thead>\n",
       "    <tr style=\"text-align: right;\">\n",
       "      <th></th>\n",
       "      <th>Label</th>\n",
       "      <th>SMS</th>\n",
       "      <th>predicted</th>\n",
       "    </tr>\n",
       "  </thead>\n",
       "  <tbody>\n",
       "    <tr>\n",
       "      <th>0</th>\n",
       "      <td>ham</td>\n",
       "      <td>Later i guess. I needa do mcat study too.</td>\n",
       "      <td>ham</td>\n",
       "    </tr>\n",
       "    <tr>\n",
       "      <th>1</th>\n",
       "      <td>ham</td>\n",
       "      <td>But i haf enuff space got like 4 mb...</td>\n",
       "      <td>ham</td>\n",
       "    </tr>\n",
       "    <tr>\n",
       "      <th>2</th>\n",
       "      <td>spam</td>\n",
       "      <td>Had your mobile 10 mths? Update to latest Oran...</td>\n",
       "      <td>spam</td>\n",
       "    </tr>\n",
       "    <tr>\n",
       "      <th>3</th>\n",
       "      <td>ham</td>\n",
       "      <td>All sounds good. Fingers . Makes it difficult ...</td>\n",
       "      <td>ham</td>\n",
       "    </tr>\n",
       "    <tr>\n",
       "      <th>4</th>\n",
       "      <td>ham</td>\n",
       "      <td>All done, all handed in. Don't know if mega sh...</td>\n",
       "      <td>ham</td>\n",
       "    </tr>\n",
       "  </tbody>\n",
       "</table>\n",
       "</div>"
      ],
      "text/plain": [
       "  Label                                                SMS predicted\n",
       "0   ham          Later i guess. I needa do mcat study too.       ham\n",
       "1   ham             But i haf enuff space got like 4 mb...       ham\n",
       "2  spam  Had your mobile 10 mths? Update to latest Oran...      spam\n",
       "3   ham  All sounds good. Fingers . Makes it difficult ...       ham\n",
       "4   ham  All done, all handed in. Don't know if mega sh...       ham"
      ]
     },
     "execution_count": 24,
     "metadata": {},
     "output_type": "execute_result"
    }
   ],
   "source": [
    "def classify_test_set(message):\n",
    "\n",
    "    message = re.sub('\\W', ' ', message)\n",
    "    message = message.lower()\n",
    "    message = message.split()\n",
    "\n",
    "    p_spam_given_message = p_spam\n",
    "    p_ham_given_message = p_ham\n",
    "    \n",
    "    for word in message:\n",
    "        if word in parameters_spam:\n",
    "            p_spam_given_message *= parameters_spam[word]\n",
    "\n",
    "        if word in parameters_ham:\n",
    "            p_ham_given_message *= parameters_ham[word]\n",
    "            \n",
    "    if p_ham_given_message > p_spam_given_message:\n",
    "        return 'ham'\n",
    "    elif p_spam_given_message > p_ham_given_message:\n",
    "        return 'spam'\n",
    "    else:\n",
    "        return 'needs human classification'\n",
    "\n",
    "test_data['predicted'] = test_data['SMS'].apply(classify_test_set)\n",
    "test_data.head()"
   ]
  },
  {
   "cell_type": "markdown",
   "metadata": {},
   "source": [
    "I can now compare the actual values in the dataset to the predicted values to measure the accuracy of the spam filter by using the formula below:\n",
    "\n",
    "<img src=\"files/image_6.PNG\" />"
   ]
  },
  {
   "cell_type": "code",
   "execution_count": 25,
   "metadata": {},
   "outputs": [
    {
     "name": "stdout",
     "output_type": "stream",
     "text": [
      "Correct: 1100\n",
      "Incorrect: 14\n",
      "Accuracy: 98.74 %\n"
     ]
    }
   ],
   "source": [
    "correct = 0\n",
    "total = test_data.shape[0]\n",
    "\n",
    "for row in test_data.iterrows():\n",
    "    row = row[1]\n",
    "    if row['Label'] == row['predicted']:\n",
    "        correct += 1\n",
    "print('Correct:', correct)\n",
    "print('Incorrect:', total - correct)\n",
    "print('Accuracy:', round(correct/total * 100, 2),'%')    "
   ]
  },
  {
   "cell_type": "markdown",
   "metadata": {},
   "source": [
    "A 98.74% accuracy is really good especially because it exceeds the expected 80% accuracy value!"
   ]
  },
  {
   "cell_type": "markdown",
   "metadata": {},
   "source": [
    "## Next Steps"
   ]
  },
  {
   "cell_type": "markdown",
   "metadata": {},
   "source": [
    "I have successfully built a spam filter that has a really good accuracy of 98.74% - an accuracy that exceeds expectation.\n",
    "\n",
    "However, I'm also interested in the 14 messages that were wrongly classified and will like to find out why they didn't make it to the majority.\n",
    "\n",
    "I'll start by isolating rows in `test_data` that were wrongly predicted."
   ]
  },
  {
   "cell_type": "code",
   "execution_count": 26,
   "metadata": {},
   "outputs": [
    {
     "data": {
      "text/html": [
       "<div>\n",
       "<style scoped>\n",
       "    .dataframe tbody tr th:only-of-type {\n",
       "        vertical-align: middle;\n",
       "    }\n",
       "\n",
       "    .dataframe tbody tr th {\n",
       "        vertical-align: top;\n",
       "    }\n",
       "\n",
       "    .dataframe thead th {\n",
       "        text-align: right;\n",
       "    }\n",
       "</style>\n",
       "<table border=\"1\" class=\"dataframe\">\n",
       "  <thead>\n",
       "    <tr style=\"text-align: right;\">\n",
       "      <th></th>\n",
       "      <th>Label</th>\n",
       "      <th>SMS</th>\n",
       "      <th>predicted</th>\n",
       "    </tr>\n",
       "  </thead>\n",
       "  <tbody>\n",
       "    <tr>\n",
       "      <th>114</th>\n",
       "      <td>spam</td>\n",
       "      <td>not heard from u4 a while  call me now am here...</td>\n",
       "      <td>ham</td>\n",
       "    </tr>\n",
       "    <tr>\n",
       "      <th>135</th>\n",
       "      <td>spam</td>\n",
       "      <td>more people are dogging in your area now  call...</td>\n",
       "      <td>ham</td>\n",
       "    </tr>\n",
       "    <tr>\n",
       "      <th>152</th>\n",
       "      <td>ham</td>\n",
       "      <td>unlimited texts  limited minutes</td>\n",
       "      <td>spam</td>\n",
       "    </tr>\n",
       "    <tr>\n",
       "      <th>159</th>\n",
       "      <td>ham</td>\n",
       "      <td>26th of july</td>\n",
       "      <td>spam</td>\n",
       "    </tr>\n",
       "    <tr>\n",
       "      <th>284</th>\n",
       "      <td>ham</td>\n",
       "      <td>nokia phone is lovly</td>\n",
       "      <td>spam</td>\n",
       "    </tr>\n",
       "    <tr>\n",
       "      <th>293</th>\n",
       "      <td>ham</td>\n",
       "      <td>a boy loved a gal  he propsd bt she didnt mind...</td>\n",
       "      <td>needs human classification</td>\n",
       "    </tr>\n",
       "    <tr>\n",
       "      <th>302</th>\n",
       "      <td>ham</td>\n",
       "      <td>no calls  messages  missed calls</td>\n",
       "      <td>spam</td>\n",
       "    </tr>\n",
       "    <tr>\n",
       "      <th>319</th>\n",
       "      <td>ham</td>\n",
       "      <td>we have sent jd for customer service cum accou...</td>\n",
       "      <td>spam</td>\n",
       "    </tr>\n",
       "    <tr>\n",
       "      <th>504</th>\n",
       "      <td>spam</td>\n",
       "      <td>oh my god  i ve found your number again  i m s...</td>\n",
       "      <td>ham</td>\n",
       "    </tr>\n",
       "    <tr>\n",
       "      <th>546</th>\n",
       "      <td>spam</td>\n",
       "      <td>hi babe its chloe  how r u  i was smashed on s...</td>\n",
       "      <td>ham</td>\n",
       "    </tr>\n",
       "    <tr>\n",
       "      <th>741</th>\n",
       "      <td>spam</td>\n",
       "      <td>0a networks allow companies to bill for sms  s...</td>\n",
       "      <td>ham</td>\n",
       "    </tr>\n",
       "    <tr>\n",
       "      <th>876</th>\n",
       "      <td>spam</td>\n",
       "      <td>rct  thnq adrian for u text  rgds vatian</td>\n",
       "      <td>ham</td>\n",
       "    </tr>\n",
       "    <tr>\n",
       "      <th>885</th>\n",
       "      <td>spam</td>\n",
       "      <td>2 2 146tf150p</td>\n",
       "      <td>ham</td>\n",
       "    </tr>\n",
       "    <tr>\n",
       "      <th>953</th>\n",
       "      <td>spam</td>\n",
       "      <td>hello  we need some posh birds and chaps to us...</td>\n",
       "      <td>ham</td>\n",
       "    </tr>\n",
       "  </tbody>\n",
       "</table>\n",
       "</div>"
      ],
      "text/plain": [
       "    Label                                                SMS  \\\n",
       "114  spam  not heard from u4 a while  call me now am here...   \n",
       "135  spam  more people are dogging in your area now  call...   \n",
       "152   ham                  unlimited texts  limited minutes    \n",
       "159   ham                                       26th of july   \n",
       "284   ham                             nokia phone is lovly     \n",
       "293   ham  a boy loved a gal  he propsd bt she didnt mind...   \n",
       "302   ham                   no calls  messages  missed calls   \n",
       "319   ham  we have sent jd for customer service cum accou...   \n",
       "504  spam  oh my god  i ve found your number again  i m s...   \n",
       "546  spam  hi babe its chloe  how r u  i was smashed on s...   \n",
       "741  spam  0a networks allow companies to bill for sms  s...   \n",
       "876  spam           rct  thnq adrian for u text  rgds vatian   \n",
       "885  spam                                      2 2 146tf150p   \n",
       "953  spam  hello  we need some posh birds and chaps to us...   \n",
       "\n",
       "                      predicted  \n",
       "114                         ham  \n",
       "135                         ham  \n",
       "152                        spam  \n",
       "159                        spam  \n",
       "284                        spam  \n",
       "293  needs human classification  \n",
       "302                        spam  \n",
       "319                        spam  \n",
       "504                         ham  \n",
       "546                         ham  \n",
       "741                         ham  \n",
       "876                         ham  \n",
       "885                         ham  \n",
       "953                         ham  "
      ]
     },
     "execution_count": 26,
     "metadata": {},
     "output_type": "execute_result"
    }
   ],
   "source": [
    "def clean(message):\n",
    "    \n",
    "    message = re.sub('\\W',' ',message)\n",
    "    message = message.lower()\n",
    "    \n",
    "    return message\n",
    "\n",
    "test_data['SMS'] = test_data['SMS'].apply(clean)\n",
    "incorrect_classification = test_data[test_data['Label'] != test_data['predicted']]\n",
    "incorrect_classification"
   ]
  },
  {
   "cell_type": "markdown",
   "metadata": {},
   "source": [
    "Let's view this in a word cloud to appreciate the information better. \n",
    "\n",
    "We'll start with ham(non-spam) messages that were wrongly classified as spam messages."
   ]
  },
  {
   "cell_type": "markdown",
   "metadata": {},
   "source": [
    "### Investigatin Wrongly Classified `ham` (non-spam) Messages"
   ]
  },
  {
   "cell_type": "code",
   "execution_count": 27,
   "metadata": {},
   "outputs": [
    {
     "data": {
      "image/png": "[encoded data removed]",
      "text/plain": [
       "<Figure size 1296x432 with 1 Axes>"
      ]
     },
     "metadata": {
      "needs_background": "light"
     },
     "output_type": "display_data"
    }
   ],
   "source": [
    "import matplotlib.pyplot as plt\n",
    "%matplotlib inline\n",
    "# Define a function to plot word cloud\n",
    "def plot_cloud(wordcloud):\n",
    "    # Set figure size\n",
    "    plt.figure(figsize=(18, 6))\n",
    "    # Display image\n",
    "    plt.imshow(wordcloud) \n",
    "    # No axis details\n",
    "    plt.axis(\"off\");\n",
    "\n",
    "# Generate word cloud\n",
    "from wordcloud import WordCloud, STOPWORDS\n",
    "text_in_ham = incorrect_classification[incorrect_classification['Label'] == 'ham']\n",
    "wordcloud = WordCloud(width = 3000, height = 2000, random_state=1, background_color='white', \n",
    "                      colormap='seismic', collocations=False, stopwords = STOPWORDS).generate(str(text_in_ham['SMS']))\n",
    "# Plot\n",
    "plot_cloud(wordcloud)\n",
    "\n"
   ]
  },
  {
   "cell_type": "markdown",
   "metadata": {},
   "source": [
    "Some of the common words here are 'texts', 'calls', 'unlimited', and 'limited'. These are words commonly found in spam messages. So, a likely reason that the filter wrongly classified this ham messages as spam messages is that they contain words that are similar to words in spam messages. \n",
    "\n",
    "This factor will affect the value of the `p_spam_given_message` of a message in this category and cause it to be higher than the value of `p_ham_given_message` which will assign the value 'spam' to the message."
   ]
  },
  {
   "cell_type": "code",
   "execution_count": 28,
   "metadata": {},
   "outputs": [
    {
     "name": "stdout",
     "output_type": "stream",
     "text": [
      "Total number of words not in vocabulary: 14\n",
      "Total number of words in messages: 46\n",
      "Percentage of words not in vocabulary: 30.43 %\n"
     ]
    }
   ],
   "source": [
    "words_1 = str(text_in_ham['SMS']).split()\n",
    "num_words_1 = len(words_1)\n",
    "\n",
    "not_in_vocab_1 = 0\n",
    "for word in words_1:\n",
    "    if word not in vocabulary:\n",
    "        not_in_vocab_1 +=1\n",
    "\n",
    "print('Total number of words not in vocabulary:',not_in_vocab_1)\n",
    "print('Total number of words in messages:',num_words_1)\n",
    "print('Percentage of words not in vocabulary:', round(not_in_vocab_1/num_words_1 * 100 , 2),'%')"
   ]
  },
  {
   "cell_type": "markdown",
   "metadata": {},
   "source": [
    "The fact that 14 out of 46 words in these messages are not in the vocabulary is likely to affect the calculation and is also a likely reason that some of these messages are wrongly classified.\n",
    "\n",
    "Let's check out the spam messages that were wrongly classified as ham."
   ]
  },
  {
   "cell_type": "markdown",
   "metadata": {},
   "source": [
    "### Investigating Wrongly Classified `Spam` Messages"
   ]
  },
  {
   "cell_type": "code",
   "execution_count": 29,
   "metadata": {},
   "outputs": [
    {
     "data": {
      "image/png": "[encoded data removed]",
      "text/plain": [
       "<Figure size 1296x432 with 1 Axes>"
      ]
     },
     "metadata": {
      "needs_background": "light"
     },
     "output_type": "display_data"
    }
   ],
   "source": [
    "# Generate word cloud\n",
    "from wordcloud import WordCloud, STOPWORDS\n",
    "text_in_spam = incorrect_classification[incorrect_classification['Label'] == 'spam']\n",
    "wordcloud = WordCloud(width = 3000, height = 2000, random_state=1, background_color='white', \n",
    "                      colormap='seismic', collocations=False, stopwords = STOPWORDS).generate(str(text_in_spam['SMS']))\n",
    "# Plot\n",
    "plot_cloud(wordcloud)"
   ]
  },
  {
   "cell_type": "markdown",
   "metadata": {},
   "source": [
    "The word cloud shows the most frequent words like 'heard', 'call', 'found', and 'people' in the wrongly classified spam messages. These are words typically found in ham messages. This is a probable reason for the wrong classification as 'ham'.\n",
    "\n",
    "Meanwhile, there are also words in these messages that are not present in the vocabulary. Recall that words that are not present in the vocabulary where ignored during the calculations.\n",
    "\n",
    "Let's find out how many of such words are present here."
   ]
  },
  {
   "cell_type": "code",
   "execution_count": 30,
   "metadata": {},
   "outputs": [
    {
     "name": "stdout",
     "output_type": "stream",
     "text": [
      "Total number of words not in vocabulary: 29\n",
      "Total number of words in messages: 86\n",
      "Percentage of words not in vocabulary: 33.72 %\n"
     ]
    }
   ],
   "source": [
    "words_2 = str(text_in_spam['SMS']).split()\n",
    "num_words_2 = len(words_2)\n",
    "\n",
    "not_in_vocab_2 = 0\n",
    "for word in words_2:\n",
    "    if word not in vocabulary:\n",
    "        not_in_vocab_2 +=1\n",
    "\n",
    "print('Total number of words not in vocabulary:',not_in_vocab_2)\n",
    "print('Total number of words in messages:',num_words_2)\n",
    "print('Percentage of words not in vocabulary:', round(not_in_vocab_2/num_words_2 * 100 , 2),'%')"
   ]
  },
  {
   "cell_type": "markdown",
   "metadata": {},
   "source": [
    "29 out of 86 words (about 34%) in the wrongly classified spam messages are not in the vocabulary. For messages with such words (which will be ignored), the ham words will outweigh the spam words and contribute to `p_ham_given_message` being greater than `p_spam_given_message`."
   ]
  },
  {
   "cell_type": "markdown",
   "metadata": {},
   "source": [
    "## Conclusion"
   ]
  },
  {
   "cell_type": "markdown",
   "metadata": {},
   "source": [
    "A spam filter for SMS messages was successfully built by running a training set of 4,458 messages through the Naive Bayes algorithm. A test on the filter's accuracy using the test set of 1,114 messages revealed a filter accuracy of 98.74% -- a really good accuracy value that exceeded the desired 80% accurracy.\n",
    "\n",
    "Of the 1,114 messages that were tested, 14 of them were wrongly classified. A further investigation into these messages hinted that the misclassification may be due to:\n",
    "- Typical spam words being present in ham messages and vice versa\n",
    "- Messages containing certain words that are not present in the vocabulary and will have been ignored in the calculations.\n",
    "\n",
    "Any message that checks one or both of these factors will have inaccurate `p_ham_given_message` and `p_spam_given_message` values and will be wrongly classified."
   ]
  },
  {
   "cell_type": "markdown",
   "metadata": {},
   "source": [
    "_**Yeside Okelana**_"
   ]
  }
 ],
 "metadata": {
  "kernelspec": {
   "display_name": "Python 3",
   "language": "python",
   "name": "python3"
  },
  "language_info": {
   "codemirror_mode": {
    "name": "ipython",
    "version": 3
   },
   "file_extension": ".py",
   "mimetype": "text/x-python",
   "name": "python",
   "nbconvert_exporter": "python",
   "pygments_lexer": "ipython3",
   "version": "3.8.5"
  }
 },
 "nbformat": 4,
 "nbformat_minor": 4
}
